{
 "cells": [
  {
   "cell_type": "code",
   "execution_count": 1,
   "id": "4cd06263",
   "metadata": {},
   "outputs": [],
   "source": [
    "import pandas as pd\n",
    "import string"
   ]
  },
  {
   "cell_type": "code",
   "execution_count": 2,
   "id": "b494242f",
   "metadata": {},
   "outputs": [],
   "source": [
    "def read_house():\n",
    "    # get open og txt file for reading text file\n",
    "    txt_file = open(\"2023FD.txt\", \"r\")\n",
    "\n",
    "    # get column titles\n",
    "    column_names = txt_file.readline().strip().split(\"\\t\")\n",
    "    politicians = list()\n",
    "    lines = txt_file.readlines()\n",
    "\n",
    "    for line in lines:\n",
    "        politician = list()\n",
    "    \n",
    "        if line[0].isspace():\n",
    "            politician.append(\"-\")\n",
    "        politician.extend(line.strip().split(\"\\t\"))\n",
    "        # print(politician)\n",
    "\n",
    "\n",
    "        politicians.append(politician)\n",
    "    txt_file.close()\n",
    "\n",
    "    return pd.DataFrame(politicians, columns=column_names)\n",
    "    "
   ]
  },
  {
   "cell_type": "code",
   "execution_count": 3,
   "id": "89ef1a43",
   "metadata": {},
   "outputs": [],
   "source": [
    "\"\"\"\n",
    "Filing Types:\n",
    "P - PTR Original\n",
    "B - Blind Trust\n",
    "X - Extension\n",
    "T - Termination\n",
    "C - Congressional Candidate (Candidate Report)\n",
    "W - Withdrawl\n",
    "\"\"\"\n",
    "\n",
    "df = read_house()\n",
    "df[\"FilingDate\"] = pd.to_datetime(df[\"FilingDate\"])"
   ]
  },
  {
   "cell_type": "code",
   "execution_count": 13,
   "id": "a73c74ca",
   "metadata": {},
   "outputs": [
    {
     "name": "stdout",
     "output_type": "stream",
     "text": [
      "    Prefix      Last      First Suffix FilingType StateDst  Year FilingDate  \\\n",
      "159   Hon.   Dingell     Debbie                 P     MI12  2023 2023-01-01   \n",
      "593   Hon.  Sessions       Pete                 P     TX17  2023 2023-01-02   \n",
      "18    Hon.      Axne      Cindy                 P     IA03  2023 2023-01-02   \n",
      "139   Hon.   DelBene   Suzan K.                 P     WA01  2023 2023-01-02   \n",
      "192   Hon.      Foxx   Virginia                 P     NC05  2023 2023-01-03   \n",
      "..     ...       ...        ...    ...        ...      ...   ...        ...   \n",
      "603      -     Sheth      Nirav                 C     WA08  2023 2023-07-26   \n",
      "412   Mrs.        Ly   Francine                 C     TX24  2023 2023-07-26   \n",
      "307      -    Howell  Tate Arza                 W     UT03  2023        NaT   \n",
      "325    Mr.   Johnson        Ron                 W     PA64  2023        NaT   \n",
      "662      -     Wolfe   Geoffrey                 W     CA32  2023        NaT   \n",
      "\n",
      "        DocID  \n",
      "159  20022184  \n",
      "593  20022203  \n",
      "18   20022202  \n",
      "139  20022183  \n",
      "192  20022213  \n",
      "..        ...  \n",
      "603  10055395  \n",
      "412  10054643  \n",
      "307   8219820  \n",
      "325   8219821  \n",
      "662   8219596  \n",
      "\n",
      "[674 rows x 9 columns]\n",
      "    Prefix   Last       First Suffix FilingType StateDst  Year FilingDate  \\\n",
      "414   Hon.  Lynch  Stephen F.                 P     MA08  2023 2023-05-03   \n",
      "\n",
      "        DocID  \n",
      "414  20020981  \n"
     ]
    }
   ],
   "source": [
    "\"\"\"\n",
    "if you want to look at the pdf filing ->\n",
    "for financials, Blind Trust, Extension, Termination, Congressional Candidates: \n",
    "go to https://disclosures-clerk.house.gov/public_disc/financial-pdfs/2023/[DocID].pdf\n",
    "\n",
    "for PTR Reports: go to https://disclosures-clerk.house.gov/public_disc/ptr-pdfs/2023/[DocID].pdf\n",
    "\"\"\"\n",
    "lastName = \"Lynch\"\n",
    "politician_filings = df.loc[df[\"Last\"] == lastName]\n",
    "sorted_dates = df.sort_values(by=[\"FilingDate\"])\n",
    "last_person_to_file = sorted_dates.iloc[-1]\n",
    "\n",
    "print(sorted_dates)\n",
    "print(politician_filings)\n"
   ]
  },
  {
   "cell_type": "code",
   "execution_count": null,
   "id": "82fd280e",
   "metadata": {},
   "outputs": [],
   "source": []
  }
 ],
 "metadata": {
  "kernelspec": {
   "display_name": "Python 3 (ipykernel)",
   "language": "python",
   "name": "python3"
  },
  "language_info": {
   "codemirror_mode": {
    "name": "ipython",
    "version": 3
   },
   "file_extension": ".py",
   "mimetype": "text/x-python",
   "name": "python",
   "nbconvert_exporter": "python",
   "pygments_lexer": "ipython3",
   "version": "3.9.13"
  }
 },
 "nbformat": 4,
 "nbformat_minor": 5
}
